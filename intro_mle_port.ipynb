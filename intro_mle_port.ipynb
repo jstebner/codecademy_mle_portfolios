{
 "cells": [
  {
   "cell_type": "code",
   "execution_count": 7,
   "metadata": {},
   "outputs": [],
   "source": [
    "import pandas as pd\n",
    "import matplotlib.pyplot as plt"
   ]
  },
  {
   "cell_type": "code",
   "execution_count": 2,
   "metadata": {},
   "outputs": [],
   "source": [
    "data = pd.read_csv('./data/amazon_product_details.csv')"
   ]
  },
  {
   "cell_type": "code",
   "execution_count": 6,
   "metadata": {},
   "outputs": [
    {
     "name": "stdout",
     "output_type": "stream",
     "text": [
      "        Actual_Price  Selling_Price\n",
      "count    1085.000000    1185.000000\n",
      "mean     6703.301696    3848.234599\n",
      "std     12398.108429    8950.061845\n",
      "min       299.000000      89.000000\n",
      "25%      1290.000000     499.000000\n",
      "50%      2999.000000    1125.000000\n",
      "75%      4999.000000    2129.000000\n",
      "max    118122.000000   80652.000000\n"
     ]
    },
    {
     "data": {
      "text/html": [
       "<div>\n",
       "<style scoped>\n",
       "    .dataframe tbody tr th:only-of-type {\n",
       "        vertical-align: middle;\n",
       "    }\n",
       "\n",
       "    .dataframe tbody tr th {\n",
       "        vertical-align: top;\n",
       "    }\n",
       "\n",
       "    .dataframe thead th {\n",
       "        text-align: right;\n",
       "    }\n",
       "</style>\n",
       "<table border=\"1\" class=\"dataframe\">\n",
       "  <thead>\n",
       "    <tr style=\"text-align: right;\">\n",
       "      <th></th>\n",
       "      <th>Title</th>\n",
       "      <th>Actual_Price</th>\n",
       "      <th>Selling_Price</th>\n",
       "      <th>Brand</th>\n",
       "      <th>Model</th>\n",
       "      <th>Colour</th>\n",
       "      <th>Form_Factor</th>\n",
       "      <th>Connectivity_Type</th>\n",
       "    </tr>\n",
       "  </thead>\n",
       "  <tbody>\n",
       "    <tr>\n",
       "      <th>0</th>\n",
       "      <td>Dylect in-Ear Wired Earphone I Stereo Quality ...</td>\n",
       "      <td>299.0</td>\n",
       "      <td>188.0</td>\n",
       "      <td>Dylect</td>\n",
       "      <td>Dylect Wired Earphone</td>\n",
       "      <td>Black</td>\n",
       "      <td>In Ear</td>\n",
       "      <td>Wired</td>\n",
       "    </tr>\n",
       "    <tr>\n",
       "      <th>1</th>\n",
       "      <td>Jabra Engage 65 Wireless Headset, Mono – Telep...</td>\n",
       "      <td>77914.0</td>\n",
       "      <td>57914.0</td>\n",
       "      <td>Jabra</td>\n",
       "      <td>Engage 65 Mono</td>\n",
       "      <td>Black</td>\n",
       "      <td>On Ear</td>\n",
       "      <td>Wireless</td>\n",
       "    </tr>\n",
       "    <tr>\n",
       "      <th>2</th>\n",
       "      <td>Jabra Elite 3 in Ear Bluetooth Truly Wireless ...</td>\n",
       "      <td>6999.0</td>\n",
       "      <td>4499.0</td>\n",
       "      <td>Jabra</td>\n",
       "      <td>Elite 3</td>\n",
       "      <td>Dark Grey</td>\n",
       "      <td>NaN</td>\n",
       "      <td>NaN</td>\n",
       "    </tr>\n",
       "    <tr>\n",
       "      <th>3</th>\n",
       "      <td>Zebronics Zeb-Sound Bomb 3 TWS In Ear Earbuds ...</td>\n",
       "      <td>3499.0</td>\n",
       "      <td>799.0</td>\n",
       "      <td>ZEBRONICS</td>\n",
       "      <td>Zeb - Sound Bomb 3 (Blue)</td>\n",
       "      <td>Blue</td>\n",
       "      <td>In Ear</td>\n",
       "      <td>Wireless</td>\n",
       "    </tr>\n",
       "    <tr>\n",
       "      <th>4</th>\n",
       "      <td>(Renewed) boAt Airdopes 402 Bluetooth Truly Wi...</td>\n",
       "      <td>NaN</td>\n",
       "      <td>NaN</td>\n",
       "      <td>boAt</td>\n",
       "      <td>Boat Airdopes 408</td>\n",
       "      <td>Black</td>\n",
       "      <td>In Ear</td>\n",
       "      <td>Wireless</td>\n",
       "    </tr>\n",
       "  </tbody>\n",
       "</table>\n",
       "</div>"
      ],
      "text/plain": [
       "                                               Title  Actual_Price  \\\n",
       "0  Dylect in-Ear Wired Earphone I Stereo Quality ...         299.0   \n",
       "1  Jabra Engage 65 Wireless Headset, Mono – Telep...       77914.0   \n",
       "2  Jabra Elite 3 in Ear Bluetooth Truly Wireless ...        6999.0   \n",
       "3  Zebronics Zeb-Sound Bomb 3 TWS In Ear Earbuds ...        3499.0   \n",
       "4  (Renewed) boAt Airdopes 402 Bluetooth Truly Wi...           NaN   \n",
       "\n",
       "   Selling_Price      Brand                      Model     Colour Form_Factor  \\\n",
       "0          188.0     Dylect      Dylect Wired Earphone      Black      In Ear   \n",
       "1        57914.0      Jabra             Engage 65 Mono      Black      On Ear   \n",
       "2         4499.0      Jabra                    Elite 3  Dark Grey         NaN   \n",
       "3          799.0  ZEBRONICS  Zeb - Sound Bomb 3 (Blue)       Blue      In Ear   \n",
       "4            NaN       boAt          Boat Airdopes 408      Black      In Ear   \n",
       "\n",
       "  Connectivity_Type  \n",
       "0             Wired  \n",
       "1          Wireless  \n",
       "2               NaN  \n",
       "3          Wireless  \n",
       "4          Wireless  "
      ]
     },
     "execution_count": 6,
     "metadata": {},
     "output_type": "execute_result"
    }
   ],
   "source": [
    "print(data.describe())\n",
    "data.head()"
   ]
  },
  {
   "cell_type": "code",
   "execution_count": null,
   "metadata": {},
   "outputs": [],
   "source": []
  }
 ],
 "metadata": {
  "kernelspec": {
   "display_name": "Python 3",
   "language": "python",
   "name": "python3"
  },
  "language_info": {
   "codemirror_mode": {
    "name": "ipython",
    "version": 3
   },
   "file_extension": ".py",
   "mimetype": "text/x-python",
   "name": "python",
   "nbconvert_exporter": "python",
   "pygments_lexer": "ipython3",
   "version": "3.11.0"
  },
  "orig_nbformat": 4,
  "vscode": {
   "interpreter": {
    "hash": "11c9a8d9d183678ada4733d405ee5173ac35a7c5e5bcce99b2c90cd82f22ae56"
   }
  }
 },
 "nbformat": 4,
 "nbformat_minor": 2
}
